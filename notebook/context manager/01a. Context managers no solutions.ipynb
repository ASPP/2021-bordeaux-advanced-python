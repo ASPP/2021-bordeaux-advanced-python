{
 "cells": [
  {
   "cell_type": "markdown",
   "metadata": {},
   "source": [
    "# Context managers"
   ]
  },
  {
   "cell_type": "markdown",
   "metadata": {},
   "source": [
    "## The sad story of a neuroscientist and her electron microscope\n",
    "\n",
    "Let's pretend we got a night slot to use a powerful scanning electron microscope (SEM), and we want to use it to scan a brain sample.\n",
    "\n",
    "We want to write a Python script to run during that slot that performs the scan automatically using the microscope API (so we can sleep instead of being at the lab)."
   ]
  },
  {
   "cell_type": "markdown",
   "metadata": {},
   "source": [
    "First, we import what we need from the API:"
   ]
  },
  {
   "cell_type": "code",
   "execution_count": null,
   "metadata": {
    "ExecuteTime": {
     "end_time": "2021-08-11T10:34:12.302773Z",
     "start_time": "2021-08-11T12:34:12.082011+02:00"
    },
    "collapsed": false
   },
   "outputs": [],
   "source": [
    "from microscope import (\n",
    "    MicroscopeState,  # Object that holds the current state of the microscope\n",
    "\n",
    "    connect_to_microscope,  # Connect to microscope and get a state object\n",
    "    release_microscope,\n",
    "\n",
    "    activate_vacuum_pump,  # Make vacuum inside the microscope \n",
    "    deactivate_vacuum_pump,\n",
    "    \n",
    "    insert_sample,  # Insert sample for scanning\n",
    "    remove_sample,\n",
    "    \n",
    "    calibrate,  # Calibrate microscope\n",
    "    scan_sample,  # Scan sample currently in the microscope\n",
    ")"
   ]
  },
  {
   "cell_type": "markdown",
   "metadata": {},
   "source": [
    "This is the script that we came up with:"
   ]
  },
  {
   "cell_type": "code",
   "execution_count": null,
   "metadata": {
    "ExecuteTime": {
     "end_time": "2021-08-11T10:34:13.073769Z",
     "start_time": "2021-08-11T12:34:12.946413+02:00"
    },
    "collapsed": false
   },
   "outputs": [],
   "source": [
    "# To be run at 2AM using 'cron'\n",
    "microscope_state = connect_to_microscope()\n",
    "activate_vacuum_pump(microscope_state)\n",
    "calibration_image = calibrate(microscope_state)\n",
    "sample_image = scan_sample(microscope_state)\n",
    "deactivate_vacuum_pump(microscope_state)\n",
    "release_microscope(microscope_state)"
   ]
  },
  {
   "cell_type": "markdown",
   "metadata": {},
   "source": [
    "Duh! We forgot to insert the brain sample.\n",
    "\n",
    "That's horrible:\n",
    "\n",
    "1) We still don't have the data\n",
    "\n",
    "2) The vacuum was not released and the vacuum pump overheated over a few hours. The SEM is going to be offline for a couple of days until it's fixed :-("
   ]
  },
  {
   "cell_type": "markdown",
   "metadata": {},
   "source": [
    "We're not easily discouraged so we decide to fix the script:"
   ]
  },
  {
   "cell_type": "code",
   "execution_count": null,
   "metadata": {
    "ExecuteTime": {
     "end_time": "2021-08-11T10:34:14.376916Z",
     "start_time": "2021-08-11T12:34:14.371158+02:00"
    },
    "collapsed": false
   },
   "outputs": [],
   "source": [
    "# The script, complete\n",
    "microscope_state = connect_to_microscope()\n",
    "activate_vacuum_pump(microscope_state)\n",
    "\n",
    "insert_sample(microscope_state)\n",
    "sample_image = scan_sample(microscope_state)\n",
    "remove_sample(microscope_state)\n",
    "\n",
    "deactivate_vacuum_pump(microscope_state)\n",
    "release_microscope(microscope_state)"
   ]
  },
  {
   "cell_type": "markdown",
   "metadata": {},
   "source": [
    "Still, if anything goes wrong 1) the vacuum pump might continue running or 2) the microscope connection might not be released, forcing some collagues to give up their slots.\n",
    "\n",
    "What should we do to make sure that the microscope is always left in a decent state?"
   ]
  },
  {
   "cell_type": "code",
   "execution_count": null,
   "metadata": {
    "ExecuteTime": {
     "end_time": "2021-08-11T10:34:15.097391Z",
     "start_time": "2021-08-11T12:34:15.091344+02:00"
    },
    "collapsed": false
   },
   "outputs": [],
   "source": [
    "# The script, complete and safe\n",
    "microscope_state = connect_to_microscope()\n",
    "\n",
    "activate_vacuum_pump(microscope_state)\n",
    "try:\n",
    "    insert_sample(microscope_state)\n",
    "    try:\n",
    "        sample_image = scan_sample(microscope_state)\n",
    "    finally:\n",
    "        remove_sample(microscope_state)\n",
    "finally:\n",
    "    deactivate_vacuum_pump(microscope_state)\n",
    "\n",
    "release_microscope(microscope_state)"
   ]
  },
  {
   "cell_type": "markdown",
   "metadata": {},
   "source": [
    "Of course, we could define a function `safe_scan_image()` that does all of that and hides the complexity away, but the initial and final parts in the function will show up in a lot of similar functions (e.g. the one below). "
   ]
  },
  {
   "cell_type": "code",
   "execution_count": null,
   "metadata": {
    "ExecuteTime": {
     "end_time": "2021-08-11T10:34:16.057428Z",
     "start_time": "2021-08-11T12:34:16.051243+02:00"
    },
    "collapsed": false
   },
   "outputs": [],
   "source": [
    "# Script to collect a calibration image from the microscope.\n",
    "# Another example of a microscope script that needs to do something similar but different.\n",
    "microscope_state = connect_to_microscope()\n",
    "\n",
    "activate_vacuum_pump(microscope_state)\n",
    "try:\n",
    "    calibration_image = calibrate(microscope_state)\n",
    "finally:\n",
    "    deactivate_vacuum_pump(microscope_state)\n",
    "    \n",
    "release_microscope(microscope_state)"
   ]
  },
  {
   "cell_type": "markdown",
   "metadata": {},
   "source": [
    "## How to define a context manager"
   ]
  },
  {
   "cell_type": "markdown",
   "metadata": {
    "ExecuteTime": {
     "end_time": "2018-08-26T11:08:48.451689Z",
     "start_time": "2018-08-26T13:08:48.447837+02:00"
    }
   },
   "source": [
    "We would like to write something like this:\n",
    "\n",
    "```\n",
    "with do_stuff_under_vacuum(microscope_state):\n",
    "    calibration_image = calibrate(microscope_state)\n",
    "```\n",
    "\n",
    "so that 1) the vacuum pump is activated before the code is executed; 2) the vacuum pump is deactivated, no matter if the code executes or fails.\n",
    "\n",
    "That is what context managers are for!"
   ]
  },
  {
   "cell_type": "code",
   "execution_count": null,
   "metadata": {
    "ExecuteTime": {
     "end_time": "2021-08-11T10:38:05.388883Z",
     "start_time": "2021-08-11T12:38:05.384686+02:00"
    },
    "collapsed": true
   },
   "outputs": [],
   "source": [
    "def do_stuff_under_vacuum(microscope_state):\n",
    "    activate_vacuum_pump(microscope_state)\n",
    "    try:\n",
    "        return microscope_state\n",
    "        # Here do some stuff with microscope_state\n",
    "        # Come back here\n",
    "    finally:\n",
    "        deactivate_vacuum_pump(microscope_state)\n",
    "\n",
    "# But \"return\" makes the function quits... we've seen \"yield\" though!"
   ]
  },
  {
   "cell_type": "markdown",
   "metadata": {},
   "source": [
    "We can use the `yield` keyword together with the `@contextmanager` to define a \"context manager\":"
   ]
  },
  {
   "cell_type": "code",
   "execution_count": null,
   "metadata": {
    "ExecuteTime": {
     "end_time": "2021-08-11T10:38:09.634196Z",
     "start_time": "2021-08-11T12:38:09.629092+02:00"
    },
    "collapsed": true
   },
   "outputs": [],
   "source": [
    "from contextlib import contextmanager\n",
    "\n",
    "@contextmanager\n",
    "def do_stuff_under_vacuum(microscope_state):\n",
    "    activate_vacuum_pump(microscope_state)\n",
    "    try:\n",
    "        yield  # The control is returned, and a block of code is executed\n",
    "        # The context manager continues from this point when the block of code exits\n",
    "    finally:\n",
    "        deactivate_vacuum_pump(microscope_state)\n",
    "\n"
   ]
  },
  {
   "cell_type": "code",
   "execution_count": null,
   "metadata": {
    "ExecuteTime": {
     "end_time": "2021-08-11T10:38:09.886706Z",
     "start_time": "2021-08-11T12:38:09.882175+02:00"
    },
    "collapsed": false
   },
   "outputs": [],
   "source": [
    "microscope_state = connect_to_microscope()\n",
    "\n",
    "with do_stuff_under_vacuum(microscope_state):\n",
    "    calibration_image = calibrate(microscope_state)\n",
    "\n",
    "release_microscope(microscope_state)"
   ]
  },
  {
   "cell_type": "markdown",
   "metadata": {},
   "source": [
    "## Hands-on 1\n",
    "\n",
    "Submit a PR for Issue #1 on GitHub."
   ]
  },
  {
   "cell_type": "markdown",
   "metadata": {},
   "source": [
    "## Context managers can return a value\n",
    "\n",
    "Now that we're hooked to context managers, we would like to handle the connection to the microscope the same way: we'd like to write a context manager that connects to the microscope, executes some code, and safely disconnects no matter what happens.\n",
    "\n",
    "What is the problem with it, at the moment?"
   ]
  },
  {
   "cell_type": "code",
   "execution_count": null,
   "metadata": {
    "ExecuteTime": {
     "end_time": "2021-08-11T10:40:13.767082Z",
     "start_time": "2021-08-11T12:40:13.761330+02:00"
    },
    "collapsed": false
   },
   "outputs": [],
   "source": [
    "@contextmanager\n",
    "def microscope_connection():\n",
    "    microscope_state = connect_to_microscope()\n",
    "    try:\n",
    "        yield microscope_state  # This allows the block to access this object\n",
    "    finally:\n",
    "        release_microscope(microscope_state)\n",
    "\n",
    "with microscope_connection() as state:\n",
    "    print('Is connected?', state.connected)\n",
    "print('Is connected?', state.connected)"
   ]
  },
  {
   "cell_type": "markdown",
   "metadata": {},
   "source": [
    "## Summing it all up\n",
    "\n",
    "Summing it all up, a safe script to calibrate the microscope and take a brain sample could look like this:"
   ]
  },
  {
   "cell_type": "code",
   "execution_count": null,
   "metadata": {
    "ExecuteTime": {
     "end_time": "2021-08-11T10:40:20.763822Z",
     "start_time": "2021-08-11T12:40:20.750782+02:00"
    },
    "collapsed": false
   },
   "outputs": [],
   "source": [
    "@contextmanager\n",
    "def microscope_connection():\n",
    "    microscope_state = connect_to_microscope()\n",
    "    try:\n",
    "        yield microscope_state\n",
    "    finally:\n",
    "        release_microscope(microscope_state)\n",
    "\n",
    "@contextmanager\n",
    "def do_stuff_under_void(microscope_state):\n",
    "    activate_vacuum_pump(microscope_state)\n",
    "    try:\n",
    "        yield\n",
    "    finally:\n",
    "        deactivate_vacuum_pump(microscope_state)\n",
    "\n",
    "@contextmanager\n",
    "def sample_inserted(microscope_state):\n",
    "    insert_sample(microscope_state)\n",
    "    try:\n",
    "        yield\n",
    "    finally:\n",
    "        remove_sample(microscope_state)\n",
    "\n",
    "        \n",
    "with microscope_connection() as state:\n",
    "    # Collect calibration image\n",
    "    with do_stuff_under_void(state):\n",
    "        calibration_image = calibrate(state)\n",
    "\n",
    "    # Scan brain sample\n",
    "    with do_stuff_under_void(state):\n",
    "        with sample_inserted(state):\n",
    "            sample_image = scan_sample(state)\n"
   ]
  },
  {
   "cell_type": "markdown",
   "metadata": {},
   "source": [
    "## Hands-on 2"
   ]
  },
  {
   "cell_type": "markdown",
   "metadata": {},
   "source": [
    "Submit a PR for Issue #2 on GitHub."
   ]
  },
  {
   "cell_type": "markdown",
   "metadata": {},
   "source": [
    "## Famous context managers"
   ]
  },
  {
   "cell_type": "markdown",
   "metadata": {},
   "source": [
    "There are a few famous context managers that you should know about and use in your code!"
   ]
  },
  {
   "cell_type": "markdown",
   "metadata": {},
   "source": [
    "### `open`\n",
    "\n",
    "A classic: open a file and make sure that the file handle is released even if an error occurs."
   ]
  },
  {
   "cell_type": "code",
   "execution_count": null,
   "metadata": {
    "ExecuteTime": {
     "end_time": "2021-08-11T12:01:24.882599Z",
     "start_time": "2021-08-11T14:01:24.875218+02:00"
    },
    "collapsed": false,
    "scrolled": true
   },
   "outputs": [],
   "source": [
    "with open('haiku.txt', 'w') as f:\n",
    "    f.write('Out of memory.\\nWe wish to hold the whole sky,\\nBut we never will.\\n')\n",
    "\n",
    "with open('haiku.txt', 'r') as f:\n",
    "    for line in f:\n",
    "        print(line.strip())"
   ]
  },
  {
   "cell_type": "markdown",
   "metadata": {},
   "source": [
    "### Matplotlib's `rc_context`\n",
    "\n",
    "Temporarily set the matplotlib style options (see https://matplotlib.org/users/customizing.html). \n",
    "\n",
    "This is a common context manager pattern: temporary changes to the configuration of something.\n",
    "\n",
    "Similarly: `pandas.option_context` \n",
    "(https://pandas.pydata.org/pandas-docs/stable/generated/pandas.option_context.html)"
   ]
  },
  {
   "cell_type": "code",
   "execution_count": null,
   "metadata": {
    "ExecuteTime": {
     "end_time": "2021-08-11T12:01:28.127414Z",
     "start_time": "2021-08-11T14:01:26.851390+02:00"
    },
    "collapsed": false
   },
   "outputs": [],
   "source": [
    "%matplotlib inline\n",
    "\n",
    "import matplotlib.pyplot as plt\n",
    "import numpy as np\n",
    "\n",
    "x = np.linspace(-1, 1, 100)\n",
    "y = x ** 3\n",
    "plt.plot(x, y)\n",
    "plt.xlabel('X')\n",
    "plt.ylabel('Y')\n",
    "plt.title('A plot')"
   ]
  },
  {
   "cell_type": "code",
   "execution_count": null,
   "metadata": {
    "ExecuteTime": {
     "end_time": "2021-08-11T12:01:29.651730Z",
     "start_time": "2021-08-11T14:01:29.448250+02:00"
    },
    "collapsed": false
   },
   "outputs": [],
   "source": [
    "with plt.rc_context(rc={'figure.figsize': (12, 6), 'font.size': 28}):\n",
    "    plt.plot(x, y)\n",
    "    plt.xlabel('X')\n",
    "    plt.ylabel('Y')\n",
    "    plt.title('A plot')\n"
   ]
  },
  {
   "cell_type": "markdown",
   "metadata": {},
   "source": [
    "Personally, I wrap `rc_context` in a function like this one, and use it in most of my notebooks:"
   ]
  },
  {
   "cell_type": "code",
   "execution_count": null,
   "metadata": {
    "ExecuteTime": {
     "end_time": "2021-08-11T12:01:34.945437Z",
     "start_time": "2021-08-11T14:01:34.938749+02:00"
    },
    "collapsed": true
   },
   "outputs": [],
   "source": [
    "def plot_style(figsize=(12, 6), labelsize=20, titlesize=24, ticklabelsize=14, **kwargs):\n",
    "   basic_style = {\n",
    "       'figure.figsize': figsize,\n",
    "       'axes.labelsize': labelsize,\n",
    "       'axes.titlesize': titlesize,\n",
    "       'xtick.labelsize': ticklabelsize,\n",
    "       'ytick.labelsize': ticklabelsize,\n",
    "       'axes.spines.top': False,\n",
    "       'axes.spines.right': False,\n",
    "       'axes.spines.left': False,\n",
    "       'axes.grid': True,\n",
    "       'axes.grid.axis': 'y',\n",
    "   }\n",
    "   basic_style.update(kwargs)\n",
    "   return plt.rc_context(rc=basic_style)\n"
   ]
  },
  {
   "cell_type": "code",
   "execution_count": null,
   "metadata": {
    "ExecuteTime": {
     "end_time": "2021-08-11T12:01:36.305868Z",
     "start_time": "2021-08-11T14:01:36.093807+02:00"
    },
    "collapsed": false
   },
   "outputs": [],
   "source": [
    "with plot_style(figsize=(16, 4), titlesize=32):\n",
    "    plt.plot(x, y)\n",
    "    plt.xlabel('X')\n",
    "    plt.ylabel('Y')\n",
    "    plt.title('A plot')\n"
   ]
  },
  {
   "cell_type": "markdown",
   "metadata": {},
   "source": [
    "### DB transactions"
   ]
  },
  {
   "cell_type": "markdown",
   "metadata": {},
   "source": [
    "We can insert some values like this..."
   ]
  },
  {
   "cell_type": "code",
   "execution_count": null,
   "metadata": {
    "ExecuteTime": {
     "end_time": "2021-08-11T12:01:49.302633Z",
     "start_time": "2021-08-11T14:01:49.294935+02:00"
    },
    "collapsed": false
   },
   "outputs": [],
   "source": [
    "import sqlite3\n",
    "\n",
    "conn = sqlite3.connect(':memory:')\n",
    "conn.execute('CREATE TABLE users (id INT PRIMARY KEY, name CHAR(50))')\n",
    "\n",
    "values = [(1, 'Pietro'), (2, 'Tiziano')]\n",
    "for value in values:\n",
    "    conn.execute('INSERT INTO users(id, name) VALUES (?, ?)', value)\n",
    "\n",
    "result = conn.execute('SELECT * FROM users')\n",
    "print(result.fetchall())"
   ]
  },
  {
   "cell_type": "markdown",
   "metadata": {},
   "source": [
    "But often we want to have a bloc of statements either succeed together, or not be executed at all. For example, in a bank transfer!"
   ]
  },
  {
   "cell_type": "code",
   "execution_count": null,
   "metadata": {
    "ExecuteTime": {
     "end_time": "2021-08-11T12:01:53.057552Z",
     "start_time": "2021-08-11T14:01:53.030700+02:00"
    },
    "collapsed": false,
    "scrolled": true
   },
   "outputs": [],
   "source": [
    "conn = sqlite3.connect(':memory:')\n",
    "conn.execute('CREATE TABLE users (id INT PRIMARY KEY, name CHAR(50))')\n",
    "\n",
    "values = [(1, 'Pietro'), (2, 'Tiziano'), 'Zbyszek']\n",
    "for value in values:\n",
    "    conn.execute('INSERT INTO users(id, name) VALUES (?, ?)', value)\n"
   ]
  },
  {
   "cell_type": "code",
   "execution_count": null,
   "metadata": {
    "ExecuteTime": {
     "end_time": "2021-08-11T12:01:55.225179Z",
     "start_time": "2021-08-11T14:01:55.221269+02:00"
    },
    "collapsed": false
   },
   "outputs": [],
   "source": [
    "result = conn.execute('SELECT * FROM users')\n",
    "print(result.fetchall())"
   ]
  },
  {
   "cell_type": "markdown",
   "metadata": {},
   "source": [
    "Using `conn` as a context manager defines a DB transaction: if there is one error, all statements are rolled back and the DB does not change."
   ]
  },
  {
   "cell_type": "code",
   "execution_count": null,
   "metadata": {
    "ExecuteTime": {
     "end_time": "2021-08-11T12:02:01.786035Z",
     "start_time": "2021-08-11T14:02:01.776136+02:00"
    },
    "collapsed": false
   },
   "outputs": [],
   "source": [
    "conn = sqlite3.connect(':memory:')\n",
    "conn.execute('CREATE TABLE users (id INT PRIMARY KEY, name CHAR(50))')\n",
    "\n",
    "values = [(1, 'Pietro'), (2, 'Tiziano'), 'Zbyszek']\n",
    "with conn:\n",
    "    for value in values:\n",
    "        conn.execute('INSERT INTO users(id, name) VALUES (?, ?)', value)\n"
   ]
  },
  {
   "cell_type": "code",
   "execution_count": null,
   "metadata": {
    "ExecuteTime": {
     "end_time": "2021-08-11T12:02:02.620564Z",
     "start_time": "2021-08-11T14:02:02.616800+02:00"
    },
    "collapsed": false
   },
   "outputs": [],
   "source": [
    "result = conn.execute('SELECT * FROM users')\n",
    "print(result.fetchall())"
   ]
  },
  {
   "cell_type": "markdown",
   "metadata": {},
   "source": [
    "### `contextlib.suppress`"
   ]
  },
  {
   "cell_type": "markdown",
   "metadata": {},
   "source": [
    "`contextlib.suppress` suppresses one or more exceptions while the block of code is executed"
   ]
  },
  {
   "cell_type": "code",
   "execution_count": null,
   "metadata": {
    "ExecuteTime": {
     "end_time": "2021-08-11T12:02:07.705321Z",
     "start_time": "2021-08-11T14:02:07.701731+02:00"
    },
    "collapsed": false
   },
   "outputs": [],
   "source": [
    "from contextlib import suppress\n",
    "import os\n",
    "\n",
    "with suppress(FileNotFoundError):\n",
    "    os.remove('haiku.txt')"
   ]
  },
  {
   "cell_type": "code",
   "execution_count": null,
   "metadata": {
    "collapsed": true
   },
   "outputs": [],
   "source": []
  }
 ],
 "metadata": {
  "hide_input": false,
  "kernelspec": {
   "display_name": "Python [conda env:scratch]",
   "language": "python",
   "name": "conda-env-scratch-py"
  },
  "language_info": {
   "codemirror_mode": {
    "name": "ipython",
    "version": 3
   },
   "file_extension": ".py",
   "mimetype": "text/x-python",
   "name": "python",
   "nbconvert_exporter": "python",
   "pygments_lexer": "ipython3",
   "version": "3.5.5"
  },
  "toc": {
   "nav_menu": {
    "height": "228px",
    "width": "252px"
   },
   "navigate_menu": true,
   "number_sections": true,
   "sideBar": true,
   "threshold": 4,
   "toc_cell": false,
   "toc_section_display": "block",
   "toc_window_display": false
  }
 },
 "nbformat": 4,
 "nbformat_minor": 2
}
